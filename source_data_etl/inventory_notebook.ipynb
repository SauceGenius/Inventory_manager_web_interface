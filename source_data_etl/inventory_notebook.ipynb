{
 "cells": [
  {
   "cell_type": "markdown",
   "metadata": {},
   "source": [
    "## Setup"
   ]
  },
  {
   "cell_type": "markdown",
   "metadata": {},
   "source": [
    "#### Libraries"
   ]
  },
  {
   "cell_type": "code",
   "execution_count": 1,
   "metadata": {},
   "outputs": [],
   "source": [
    "import pandas as pd\n",
    "import os\n",
    "import mysql.connector\n",
    "from mysql.connector import Error"
   ]
  },
  {
   "cell_type": "markdown",
   "metadata": {},
   "source": [
    "#### Environnement"
   ]
  },
  {
   "cell_type": "code",
   "execution_count": 2,
   "metadata": {},
   "outputs": [],
   "source": [
    "DATABASE_HOST = 'localhost'\n",
    "DATABASE_NAME = 'inventory'\n",
    "DATABASE_ADMIN_USERNAME = 'root'\n",
    "DATABASE_ADMIN_PASSWORD = 'tofer006007'"
   ]
  },
  {
   "cell_type": "markdown",
   "metadata": {},
   "source": [
    "## Extraction"
   ]
  },
  {
   "cell_type": "markdown",
   "metadata": {},
   "source": [
    "#### Loading from Excel"
   ]
  },
  {
   "cell_type": "code",
   "execution_count": 3,
   "metadata": {},
   "outputs": [
    {
     "name": "stdout",
     "output_type": "stream",
     "text": [
      "   RM# Location    Lot #          Product Name Nature of Product  # of boxes  Packages / Box  Units / Package    Units Total (un)  Label grams Total (g)  Total (KG)  date_stock THC % Réservé Retail | Réservé Wholesale\n",
      "0  110       A1      426              Medellin           Popcorn         NaN             NaN              NaN  22140.0      22140          1.0   22139.6      22.140  2024-04-30   NaN                                NaN\n",
      "1  110       A1  246261H  Cherry Noir/Mandarin              Hash         NaN             NaN              NaN   3780.0       3780          1.0    3780.0       3.780  2024-04-30   NaN                                NaN\n",
      "2  110       A1      426              Medellin             Shake         NaN             NaN              NaN  52099.0      52099          1.0   52098.8      52.099  2024-04-30   NaN                                NaN\n",
      "3  110       A2    MIXED           Sage N Sour         RND|Shred         NaN             NaN              NaN   1392.0       1392          1.0    1391.9       1.392  2024-04-30   NaN                                NaN\n",
      "4  110       A2    MIXED              Mandarin         RND|Shred         NaN             NaN              NaN   2673.0       2673          1.0    2672.7       2.673  2024-04-30   NaN                                NaN\n"
     ]
    }
   ],
   "source": [
    "# Read all csv files in /data folder\n",
    "data_frames = []\n",
    "for file in os.listdir('data'):\n",
    "    if file.endswith('.csv'):\n",
    "        df = pd.read_csv(f'data/{file}')\n",
    "        df['date_stock'] = file.split('_')[1].split('.')[0]\n",
    "        data_frames.append(df)\n",
    "\n",
    "\n",
    "# Concatenate all dataframes into a single dataframe\n",
    "stock_df = pd.concat(data_frames, ignore_index=True)\n",
    "\n",
    "print(stock_df.head(5).to_string())"
   ]
  },
  {
   "cell_type": "markdown",
   "metadata": {},
   "source": [
    "## Transformations"
   ]
  },
  {
   "cell_type": "markdown",
   "metadata": {},
   "source": [
    "### Initial Manipulation"
   ]
  },
  {
   "cell_type": "markdown",
   "metadata": {},
   "source": [
    "#### Column Manipulations"
   ]
  },
  {
   "cell_type": "markdown",
   "metadata": {},
   "source": [
    "##### Columns Names"
   ]
  },
  {
   "cell_type": "code",
   "execution_count": 4,
   "metadata": {},
   "outputs": [
    {
     "name": "stdout",
     "output_type": "stream",
     "text": [
      "0                                    RM#\n",
      "1                               Location\n",
      "2                                  Lot #\n",
      "3                           Product Name\n",
      "4                      Nature of Product\n",
      "5                             # of boxes\n",
      "6                         Packages / Box\n",
      "7                        Units / Package\n",
      "8                                  Units\n",
      "9                             Total (un)\n",
      "10                           Label grams\n",
      "11                             Total (g)\n",
      "12                            Total (KG)\n",
      "13                            date_stock\n",
      "14                                 THC %\n",
      "15    Réservé Retail | Réservé Wholesale\n"
     ]
    }
   ],
   "source": [
    "print(pd.Series(stock_df.columns).to_string())"
   ]
  },
  {
   "cell_type": "code",
   "execution_count": 5,
   "metadata": {},
   "outputs": [
    {
     "name": "stdout",
     "output_type": "stream",
     "text": [
      "0                      room\n",
      "1                  location\n",
      "2                batch_name\n",
      "3              lineage_name\n",
      "4     category_name_initial\n",
      "5                     boxes\n",
      "6          packages_per_box\n",
      "7         units_per_package\n",
      "8                     units\n",
      "9            grams_per_unit\n",
      "10                 weight_g\n",
      "11                weight_kg\n",
      "12               date_stock\n",
      "13                      thc\n",
      "14                is_retail\n",
      "15                   is_rnd\n",
      "16        needs_qa_approval\n",
      "17           released_by_qa\n",
      "18            category_name\n"
     ]
    }
   ],
   "source": [
    "# Drop columns\n",
    "stock_df.drop(columns=['Units'], inplace=True)\n",
    "\n",
    "# Rename columns\n",
    "stock_df.rename(columns={'RM#': 'room',\n",
    "                         'Location': 'location',\n",
    "                         'Lot #': 'batch_name',\n",
    "                         'Product Name': 'lineage_name',\n",
    "                         'Nature of Product': 'category_name_initial',\n",
    "                         '# of boxes': 'boxes',\n",
    "                         'Packages / Box': 'packages_per_box',\n",
    "                         'Units / Package': 'units_per_package',\n",
    "                         'Total (un)': 'units',\n",
    "                         'Label grams':'grams_per_unit',\n",
    "                         'Total (g)':'weight_g',\n",
    "                         'Total (KG)':'weight_kg',\n",
    "                         'Réservé Retail | Réservé Wholesale':'is_retail',\n",
    "                         'THC %':'thc'}, inplace=True)\n",
    "\n",
    "# Add column is_rnd and is_qa\n",
    "stock_df['is_rnd'] = False\n",
    "stock_df['needs_qa_approval'] = False\n",
    "stock_df['released_by_qa'] = False\n",
    "\n",
    "# Add column category_name\n",
    "stock_df['category_name'] = stock_df['category_name_initial']\n",
    "\n",
    "print(pd.Series(stock_df.columns).to_string())"
   ]
  },
  {
   "cell_type": "markdown",
   "metadata": {},
   "source": [
    "##### Columns Data Types"
   ]
  },
  {
   "cell_type": "code",
   "execution_count": 6,
   "metadata": {},
   "outputs": [
    {
     "name": "stdout",
     "output_type": "stream",
     "text": [
      "<class 'pandas.core.frame.DataFrame'>\n",
      "RangeIndex: 1765 entries, 0 to 1764\n",
      "Data columns (total 19 columns):\n",
      " #   Column                 Non-Null Count  Dtype  \n",
      "---  ------                 --------------  -----  \n",
      " 0   room                   1765 non-null   int64  \n",
      " 1   location               1698 non-null   object \n",
      " 2   batch_name             1765 non-null   object \n",
      " 3   lineage_name           1765 non-null   object \n",
      " 4   category_name_initial  1765 non-null   object \n",
      " 5   boxes                  694 non-null    float64\n",
      " 6   packages_per_box       694 non-null    float64\n",
      " 7   units_per_package      693 non-null    float64\n",
      " 8   units                  1765 non-null   object \n",
      " 9   grams_per_unit         1765 non-null   float64\n",
      " 10  weight_g               1765 non-null   object \n",
      " 11  weight_kg              1765 non-null   float64\n",
      " 12  date_stock             1765 non-null   object \n",
      " 13  thc                    258 non-null    object \n",
      " 14  is_retail              184 non-null    object \n",
      " 15  is_rnd                 1765 non-null   bool   \n",
      " 16  needs_qa_approval      1765 non-null   bool   \n",
      " 17  released_by_qa         1765 non-null   bool   \n",
      " 18  category_name          1765 non-null   object \n",
      "dtypes: bool(3), float64(5), int64(1), object(10)\n",
      "memory usage: 225.9+ KB\n",
      "None\n"
     ]
    }
   ],
   "source": [
    "print(stock_df.info())"
   ]
  },
  {
   "cell_type": "code",
   "execution_count": 7,
   "metadata": {},
   "outputs": [],
   "source": [
    "# Set weight_g to decimal(10,2)\n",
    "stock_df['weight_g'] = stock_df['weight_g'].str.replace(',', '').astype('float64')"
   ]
  },
  {
   "cell_type": "code",
   "execution_count": 8,
   "metadata": {},
   "outputs": [
    {
     "name": "stdout",
     "output_type": "stream",
     "text": [
      "<class 'pandas.core.frame.DataFrame'>\n",
      "RangeIndex: 1765 entries, 0 to 1764\n",
      "Data columns (total 19 columns):\n",
      " #   Column                 Non-Null Count  Dtype  \n",
      "---  ------                 --------------  -----  \n",
      " 0   room                   1765 non-null   int64  \n",
      " 1   location               1698 non-null   object \n",
      " 2   batch_name             1765 non-null   object \n",
      " 3   lineage_name           1765 non-null   object \n",
      " 4   category_name_initial  1765 non-null   object \n",
      " 5   boxes                  694 non-null    float64\n",
      " 6   packages_per_box       694 non-null    float64\n",
      " 7   units_per_package      693 non-null    float64\n",
      " 8   units                  1765 non-null   object \n",
      " 9   grams_per_unit         1765 non-null   float64\n",
      " 10  weight_g               1062 non-null   float64\n",
      " 11  weight_kg              1765 non-null   float64\n",
      " 12  date_stock             1765 non-null   object \n",
      " 13  thc                    258 non-null    object \n",
      " 14  is_retail              184 non-null    object \n",
      " 15  is_rnd                 1765 non-null   bool   \n",
      " 16  needs_qa_approval      1765 non-null   bool   \n",
      " 17  released_by_qa         1765 non-null   bool   \n",
      " 18  category_name          1765 non-null   object \n",
      "dtypes: bool(3), float64(6), int64(1), object(9)\n",
      "memory usage: 225.9+ KB\n",
      "None\n"
     ]
    }
   ],
   "source": [
    "print(stock_df.info())"
   ]
  },
  {
   "cell_type": "markdown",
   "metadata": {},
   "source": [
    "#### Values Manipulations"
   ]
  },
  {
   "cell_type": "markdown",
   "metadata": {},
   "source": [
    "##### is_retail"
   ]
  },
  {
   "cell_type": "code",
   "execution_count": 9,
   "metadata": {},
   "outputs": [
    {
     "name": "stdout",
     "output_type": "stream",
     "text": [
      "0    NaN\n",
      "1    NaN\n",
      "2    NaN\n",
      "3    NaN\n",
      "4    NaN\n",
      "5    NaN\n",
      "6    NaN\n",
      "7    NaN\n",
      "8    NaN\n",
      "9    NaN\n"
     ]
    }
   ],
   "source": [
    "print(stock_df['is_retail'].head(10).to_string())"
   ]
  },
  {
   "cell_type": "code",
   "execution_count": 10,
   "metadata": {},
   "outputs": [
    {
     "name": "stdout",
     "output_type": "stream",
     "text": [
      "1218       Retail\n",
      "1219       Retail\n",
      "1220    Wholesale\n",
      "1221    Wholesale\n",
      "1222       Retail\n",
      "1223    Wholesale\n",
      "1224    Wholesale\n",
      "1225    Wholesale\n",
      "1226    Wholesale\n",
      "1227    Wholesale\n"
     ]
    }
   ],
   "source": [
    "# for column is_retail, is value is None, remove row\n",
    "stock_df = stock_df[stock_df['is_retail'].notnull()]\n",
    "\n",
    "print(stock_df['is_retail'].head(10).to_string())"
   ]
  },
  {
   "cell_type": "code",
   "execution_count": 11,
   "metadata": {},
   "outputs": [
    {
     "name": "stdout",
     "output_type": "stream",
     "text": [
      "1218     True\n",
      "1219     True\n",
      "1220    False\n",
      "1221    False\n",
      "1222     True\n",
      "1223    False\n",
      "1224    False\n",
      "1225    False\n",
      "1226    False\n",
      "1227    False\n"
     ]
    }
   ],
   "source": [
    "# if is_retail is 'Retail', set value to True, else False\n",
    "stock_df.loc[stock_df['is_retail'] == 'Retail', 'is_retail'] = True\n",
    "stock_df.loc[stock_df['is_retail'] == 'Wholesale', 'is_retail'] = False\n",
    "\n",
    "print(stock_df['is_retail'].head(10).to_string())"
   ]
  },
  {
   "cell_type": "markdown",
   "metadata": {},
   "source": [
    "##### others"
   ]
  },
  {
   "cell_type": "code",
   "execution_count": 12,
   "metadata": {},
   "outputs": [],
   "source": [
    "# In category_name, replace 'RND', 'QA', 'Defect' and '|' with ''\n",
    "stock_df['category_name'] = stock_df['category_name'].str.replace('RND', '')\n",
    "stock_df['category_name'] = stock_df['category_name'].str.replace('QA', '')\n",
    "stock_df['category_name'] = stock_df['category_name'].str.replace('Defect', '')\n",
    "stock_df['category_name'] = stock_df['category_name'].str.replace('|', '')\n",
    "\n",
    "# Logical loop to determine if the product is rnd\n",
    "# Look for the word 'RND' or 'QA' in the category_name\n",
    "stock_df.loc[stock_df['category_name_initial'].str.contains('RND', case=False), 'is_rnd'] = True\n",
    "stock_df.loc[stock_df['category_name_initial'].str.contains('QA', case=False), 'needs_qa_approval'] = True\n",
    "stock_df.loc[stock_df['category_name_initial'].str.contains('Defect', case=False), 'is_defect'] = True\n",
    "\n",
    "# Set released_by_qa based on needs_qa_approval\n",
    "stock_df.loc[stock_df['needs_qa_approval'], 'released_by_qa'] = False\n",
    "stock_df.loc[~stock_df['needs_qa_approval'], 'released_by_qa'] = True\n",
    "\n",
    "\n",
    "# For column is_retail, select only when value is NaN\n",
    "stock_df.loc[stock_df['is_retail'].isnull(), 'is_retail'] = None\n",
    "stock_df.loc[stock_df['is_defect'].isnull(), 'is_defect'] = None\n",
    "\n",
    "stock_df['boxes'] = stock_df['boxes'].astype('Int64')\n",
    "stock_df['packages_per_box'] = stock_df['packages_per_box'].astype('Int64')\n",
    "stock_df['units_per_package'] = stock_df['units_per_package'].astype('Int64')\n",
    "\n",
    "# For every row, if a value is NaN, replace with None\n",
    "#stock_df = stock_df.where(pd.notnull(stock_df), None)\n",
    "stock_df = stock_df.replace({pd.NA: None})"
   ]
  },
  {
   "cell_type": "code",
   "execution_count": 13,
   "metadata": {},
   "outputs": [
    {
     "name": "stdout",
     "output_type": "stream",
     "text": [
      "      room location batch_name      lineage_name category_name_initial boxes packages_per_box units_per_package   units  grams_per_unit  weight_g  weight_kg  date_stock     thc is_retail  is_rnd  needs_qa_approval  released_by_qa category_name is_defect\n",
      "1218   110       A1        426          Medellin               Popcorn    21             1000                 1  22,140             1.0   22139.6     22.140  2024-06-30  27.53%      True   False              False            True       Popcorn      None\n",
      "1219   110       A1        443          Medellin               Popcorn    20             1000                 1  20,883             1.0   20883.3     20.883  2024-06-30  29.20%      True   False              False            True       Popcorn      None\n",
      "1220   110       A1        318  Super Lemon Haze       QA|Large Flower     6             1000                 1   6,101             1.0    6101.4      6.101  2024-06-30    None     False   False               True           False  Large Flower      None\n",
      "1221   110       A1        430          Chemdawg            QA|Popcorn     3             1000                 1   3,650             1.0    3650.1      3.650  2024-06-30    None     False   False               True           False       Popcorn      None\n",
      "1222   110       A2        450          Medellin                 Shake    39             1500                 1  60,017             1.0   60016.6     60.017  2024-06-30  29.30%      True   False              False            True         Shake      None\n",
      "1223   110       A2        390    Blueberry Kush               Popcorn     3             1000                 1   3,289             1.0    3288.9      3.289  2024-06-30  23.89%     False   False              False            True       Popcorn      None\n",
      "1224   110       A2        245          Chemdawg               Popcorn     8             1000                 1   9,076             1.0    9075.6      9.076  2024-06-30  32.14%     False   False              False            True       Popcorn      None\n",
      "1225   110       A2        401          Chemdawg               Popcorn    14             1000                 1  14,762             1.0   14761.7     14.762  2024-06-30  29.68%     False   False              False            True       Popcorn      None\n",
      "1226   110       A2        280      Gas Paradise               Popcorn    10             1000                 1  10,672             1.0   10671.6     10.672  2024-06-30  26.20%     False   False              False            True       Popcorn      None\n",
      "1227   110       A2       331B      Neville Haze               Popcorn  None             None              None  11,494             1.0   11493.5     11.494  2024-06-30    None     False   False              False            True       Popcorn      None\n",
      "1228   110       B1        403          Medellin                 Shake    41             1500                 1  62,748             1.0   62747.7     62.748  2024-06-30  29.78%      True   False              False            True         Shake      None\n",
      "1229   110       B1        395          Chemdawg               Popcorn    32             1000                 1  32,749             1.0   32749.1     32.749  2024-06-30  27.69%      True   False              False            True       Popcorn      None\n",
      "1230   110       B2        229       Cherry Noir            QA|Popcorn     5             1000                 1   6,411             1.0    6411.2      6.411  2024-06-30    None      True   False               True           False       Popcorn      None\n",
      "1231   110       B2        387          Chemdawg               Popcorn    10             1000                 1  11,055             1.0   11054.5     11.055  2024-06-30  26.97%     False   False              False            True       Popcorn      None\n",
      "1232   110       B2        246          Mandarin               Popcorn     5             1000                 1   5,420             1.0    5420.2      5.420  2024-06-30  27.14%     False   False              False            True       Popcorn      None\n",
      "1233   110       C1        364          Medellin          Large Flower    18             1000                 1  19,055             1.0   19054.9     19.055  2024-06-30  26.44%      True   False              False            True  Large Flower      None\n",
      "1234   110       C1        431       Cherry Noir               Popcorn     8             1000                 1   9,230             1.0    9230.1      9.230  2024-06-30  22.72%      True   False              False            True       Popcorn      None\n",
      "1235   110       C1        364          Medellin               Popcorn  None             None              None   1,947             1.0    1947.3      1.947  2024-06-30  26.44%      True   False              False            True       Popcorn      None\n",
      "1236   110       C2        384          Chemdawg               Popcorn    21             1000                 1  21,833             1.0   21832.5     21.833  2024-06-30  28.75%     False   False              False            True       Popcorn      None\n",
      "1237   110       C2        233          Mandarin               Popcorn     2             1000                 1   3,047             1.0    3047.4      3.047  2024-06-30  24.07%     False   False              False            True       Popcorn      None\n"
     ]
    }
   ],
   "source": [
    "# show as table\n",
    "print(stock_df.head(20).to_string())"
   ]
  },
  {
   "cell_type": "markdown",
   "metadata": {},
   "source": [
    "##### Categories changes"
   ]
  },
  {
   "cell_type": "code",
   "execution_count": 14,
   "metadata": {},
   "outputs": [
    {
     "name": "stdout",
     "output_type": "stream",
     "text": [
      "0          Popcorn\n",
      "1     Large Flower\n",
      "2            Shake\n",
      "3    Popcorn/Shake\n",
      "4            Shred\n"
     ]
    }
   ],
   "source": [
    "# print all distinct values in category_name\n",
    "print(pd.Series(stock_df['category_name'].unique()).to_string())"
   ]
  },
  {
   "cell_type": "code",
   "execution_count": 15,
   "metadata": {},
   "outputs": [],
   "source": [
    "# in column category_name, replace value 'Hash' with 'Haschich'\n",
    "stock_df['category_name'] = stock_df['category_name'].str.replace('Hash', 'Haschich')\n",
    "stock_df['category_name'] = stock_df['category_name'].str.replace('Prérouler', 'Préroulés')\n",
    "\n",
    "# remove ' 3.5'\n",
    "stock_df['category_name'] = stock_df['category_name'].str.replace(' 3.5', '')\n",
    "stock_df['category_name'] = stock_df['category_name'].str.replace(' 28.0', '')\n",
    "stock_df['category_name'] = stock_df['category_name'].str.replace(' 3.0', '')\n",
    "stock_df['category_name'] = stock_df['category_name'].str.replace(' 0.75', '')\n",
    "stock_df['category_name'] = stock_df['category_name'].str.replace(' 0.6', '')\n",
    "stock_df['category_name'] = stock_df['category_name'].str.replace(' 1.0', '')\n",
    "stock_df['category_name'] = stock_df['category_name'].str.replace(' 2.0', '')\n",
    "stock_df['category_name'] = stock_df['category_name'].str.replace(' 15.0', '')\n",
    "stock_df['category_name'] = stock_df['category_name'].str.replace(' 0.35', '')"
   ]
  },
  {
   "cell_type": "code",
   "execution_count": 16,
   "metadata": {},
   "outputs": [
    {
     "name": "stdout",
     "output_type": "stream",
     "text": [
      "0          Popcorn\n",
      "1     Large Flower\n",
      "2            Shake\n",
      "3    Popcorn/Shake\n",
      "4            Shred\n"
     ]
    }
   ],
   "source": [
    "# print all distinct values in category_name\n",
    "print(pd.Series(stock_df['category_name'].unique()).to_string())"
   ]
  },
  {
   "cell_type": "code",
   "execution_count": 17,
   "metadata": {},
   "outputs": [
    {
     "name": "stdout",
     "output_type": "stream",
     "text": [
      "category_name\n",
      "Popcorn          62\n",
      "Large Flower     47\n",
      "Popcorn/Shake    39\n",
      "Shake            25\n",
      "Shred            11\n"
     ]
    }
   ],
   "source": [
    "# print distribution\n",
    "print(stock_df['category_name'].value_counts().to_string())"
   ]
  },
  {
   "cell_type": "markdown",
   "metadata": {},
   "source": [
    "### MySQL"
   ]
  },
  {
   "cell_type": "markdown",
   "metadata": {},
   "source": [
    "## Queries"
   ]
  },
  {
   "cell_type": "code",
   "execution_count": 18,
   "metadata": {},
   "outputs": [
    {
     "name": "stdout",
     "output_type": "stream",
     "text": [
      "      room location batch_name      lineage_name category_name_initial boxes packages_per_box units_per_package   units  grams_per_unit  weight_g  weight_kg  date_stock     thc is_retail  is_rnd  needs_qa_approval  released_by_qa category_name is_defect\n",
      "1218   110       A1        426          Medellin               Popcorn    21             1000                 1  22,140             1.0   22139.6     22.140  2024-06-30  27.53%      True   False              False            True       Popcorn      None\n",
      "1219   110       A1        443          Medellin               Popcorn    20             1000                 1  20,883             1.0   20883.3     20.883  2024-06-30  29.20%      True   False              False            True       Popcorn      None\n",
      "1220   110       A1        318  Super Lemon Haze       QA|Large Flower     6             1000                 1   6,101             1.0    6101.4      6.101  2024-06-30    None     False   False               True           False  Large Flower      None\n",
      "1221   110       A1        430          Chemdawg            QA|Popcorn     3             1000                 1   3,650             1.0    3650.1      3.650  2024-06-30    None     False   False               True           False       Popcorn      None\n",
      "1222   110       A2        450          Medellin                 Shake    39             1500                 1  60,017             1.0   60016.6     60.017  2024-06-30  29.30%      True   False              False            True         Shake      None\n",
      "1223   110       A2        390    Blueberry Kush               Popcorn     3             1000                 1   3,289             1.0    3288.9      3.289  2024-06-30  23.89%     False   False              False            True       Popcorn      None\n",
      "1224   110       A2        245          Chemdawg               Popcorn     8             1000                 1   9,076             1.0    9075.6      9.076  2024-06-30  32.14%     False   False              False            True       Popcorn      None\n",
      "1225   110       A2        401          Chemdawg               Popcorn    14             1000                 1  14,762             1.0   14761.7     14.762  2024-06-30  29.68%     False   False              False            True       Popcorn      None\n",
      "1226   110       A2        280      Gas Paradise               Popcorn    10             1000                 1  10,672             1.0   10671.6     10.672  2024-06-30  26.20%     False   False              False            True       Popcorn      None\n",
      "1227   110       A2       331B      Neville Haze               Popcorn  None             None              None  11,494             1.0   11493.5     11.494  2024-06-30    None     False   False              False            True       Popcorn      None\n",
      "1228   110       B1        403          Medellin                 Shake    41             1500                 1  62,748             1.0   62747.7     62.748  2024-06-30  29.78%      True   False              False            True         Shake      None\n",
      "1229   110       B1        395          Chemdawg               Popcorn    32             1000                 1  32,749             1.0   32749.1     32.749  2024-06-30  27.69%      True   False              False            True       Popcorn      None\n",
      "1230   110       B2        229       Cherry Noir            QA|Popcorn     5             1000                 1   6,411             1.0    6411.2      6.411  2024-06-30    None      True   False               True           False       Popcorn      None\n",
      "1231   110       B2        387          Chemdawg               Popcorn    10             1000                 1  11,055             1.0   11054.5     11.055  2024-06-30  26.97%     False   False              False            True       Popcorn      None\n",
      "1232   110       B2        246          Mandarin               Popcorn     5             1000                 1   5,420             1.0    5420.2      5.420  2024-06-30  27.14%     False   False              False            True       Popcorn      None\n",
      "1233   110       C1        364          Medellin          Large Flower    18             1000                 1  19,055             1.0   19054.9     19.055  2024-06-30  26.44%      True   False              False            True  Large Flower      None\n",
      "1234   110       C1        431       Cherry Noir               Popcorn     8             1000                 1   9,230             1.0    9230.1      9.230  2024-06-30  22.72%      True   False              False            True       Popcorn      None\n",
      "1235   110       C1        364          Medellin               Popcorn  None             None              None   1,947             1.0    1947.3      1.947  2024-06-30  26.44%      True   False              False            True       Popcorn      None\n",
      "1236   110       C2        384          Chemdawg               Popcorn    21             1000                 1  21,833             1.0   21832.5     21.833  2024-06-30  28.75%     False   False              False            True       Popcorn      None\n",
      "1237   110       C2        233          Mandarin               Popcorn     2             1000                 1   3,047             1.0    3047.4      3.047  2024-06-30  24.07%     False   False              False            True       Popcorn      None\n"
     ]
    }
   ],
   "source": [
    "# Print category_name = '450'\n",
    "print(stock_df.head(20).to_string())"
   ]
  }
 ],
 "metadata": {
  "kernelspec": {
   "display_name": "Python 3",
   "language": "python",
   "name": "python3"
  },
  "language_info": {
   "codemirror_mode": {
    "name": "ipython",
    "version": 3
   },
   "file_extension": ".py",
   "mimetype": "text/x-python",
   "name": "python",
   "nbconvert_exporter": "python",
   "pygments_lexer": "ipython3",
   "version": "3.11.4"
  }
 },
 "nbformat": 4,
 "nbformat_minor": 2
}
